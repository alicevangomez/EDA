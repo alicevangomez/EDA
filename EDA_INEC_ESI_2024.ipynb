{
  "nbformat": 4,
  "nbformat_minor": 0,
  "metadata": {
    "colab": {
      "provenance": [],
      "authorship_tag": "ABX9TyPUgZTdVGQQbNDqSHVuhR4w",
      "include_colab_link": true
    },
    "kernelspec": {
      "name": "python3",
      "display_name": "Python 3"
    },
    "language_info": {
      "name": "python"
    }
  },
  "cells": [
    {
      "cell_type": "markdown",
      "metadata": {
        "id": "view-in-github",
        "colab_type": "text"
      },
      "source": [
        "<a href=\"https://colab.research.google.com/github/alicevangomez/EDA/blob/main/EDA_INEC_ESI_2024.ipynb\" target=\"_parent\"><img src=\"https://colab.research.google.com/assets/colab-badge.svg\" alt=\"Open In Colab\"/></a>"
      ]
    },
    {
      "cell_type": "markdown",
      "source": [
        "## **Análisis Exploratorio de Datos del Registro de Entradas y Salidas Internacionales en Ecuador**"
      ],
      "metadata": {
        "id": "J5S8v4dVygq8"
      }
    },
    {
      "cell_type": "markdown",
      "source": [
        "El dataset incluye los registros de ingreso y salida del territorio ecuatoriano de ciudadanos nacionales y extranjeros durante el año 2024.\n",
        "\n",
        "Los datos fueron obtenidos del INEC, disponibles en el siguiente enlace: [Datos INEC ESI 2024](https://www.ecuadorencifras.gob.ec/entradas-y-salidas-internacionales/)"
      ],
      "metadata": {
        "id": "sSQ0yA8s4Mv_"
      }
    },
    {
      "cell_type": "markdown",
      "source": [
        "#### **Paso 1: Descargar, descomprimir y leer archivo csv**\n"
      ],
      "metadata": {
        "id": "1QUqknDK351n"
      }
    },
    {
      "cell_type": "code",
      "source": [
        "import requests\n",
        "import zipfile\n",
        "import io\n",
        "import pandas as pd\n",
        "import numpy as np\n",
        "\n",
        "import matplotlib.pyplot as plt\n",
        "from matplotlib.ticker import ScalarFormatter\n",
        "from matplotlib.ticker import FuncFormatter\n",
        "import seaborn as sns\n",
        "\n",
        "import folium\n",
        "import json"
      ],
      "metadata": {
        "id": "DUDYkk1E0O02"
      },
      "execution_count": null,
      "outputs": []
    },
    {
      "cell_type": "code",
      "source": [
        "# 1. URL del archivo ZIP en Datos Abiertos Ecuador\n",
        "url_zip = \"https://datosabiertos.gob.ec/dataset/registros-estadistico-de-entradas-y-salidas-internacionales-2024/resource/527d9bba-f6fd-4a0d-851e-8ed83ee6d54c/download/esi_2024.zip\"\n",
        "\n",
        "# 2. Descargar el archivo\n",
        "response = requests.get(url_zip)\n",
        "response.raise_for_status()  # Para detener si hay un error en la descarga"
      ],
      "metadata": {
        "id": "AFqpbcbG3KdG"
      },
      "execution_count": null,
      "outputs": []
    },
    {
      "cell_type": "code",
      "source": [
        "# 3. Abrir el archivo ZIP en memoria\n",
        "with zipfile.ZipFile(io.BytesIO(response.content)) as z:\n",
        "    # Listar archivos contenidos\n",
        "    print(\"Archivos dentro del ZIP:\", z.namelist())\n",
        "\n",
        "    # Suponiendo que hay un solo CSV, lo abrimos directamente\n",
        "    # Si hay varios, elige por nombre, por ejemplo:\n",
        "    # nombre_csv = [name for name in z.namelist() if name.endswith(\".csv\")][0]\n",
        "    nombre_csv = z.namelist()[0]\n",
        "    print(\"Leyendo archivo:\", nombre_csv)\n",
        "\n",
        "    # 4. Leer el CSV directamente\n",
        "    with z.open(nombre_csv) as archivo_csv:\n",
        "        df = pd.read_csv(archivo_csv)"
      ],
      "metadata": {
        "colab": {
          "base_uri": "https://localhost:8080/"
        },
        "id": "DQYShxz30aAk",
        "outputId": "5a55713b-95f9-4569-e816-3156cead8e85"
      },
      "execution_count": null,
      "outputs": [
        {
          "output_type": "stream",
          "name": "stdout",
          "text": [
            "Archivos dentro del ZIP: ['esi_2024.csv']\n",
            "Leyendo archivo: esi_2024.csv\n"
          ]
        }
      ]
    },
    {
      "cell_type": "markdown",
      "source": [
        "### **DATA INFORMATION**\n",
        "\n",
        "---\n",
        "\n"
      ],
      "metadata": {
        "id": "Sd4Mwir66MSX"
      }
    },
    {
      "cell_type": "code",
      "source": [
        "df.shape"
      ],
      "metadata": {
        "colab": {
          "base_uri": "https://localhost:8080/"
        },
        "id": "o_rPE6E46IxJ",
        "outputId": "ad3c5e3a-c891-445a-9281-16903a198042"
      },
      "execution_count": null,
      "outputs": [
        {
          "output_type": "execute_result",
          "data": {
            "text/plain": [
              "(6153591, 25)"
            ]
          },
          "metadata": {},
          "execution_count": 17
        }
      ]
    },
    {
      "cell_type": "code",
      "source": [
        "df.info()"
      ],
      "metadata": {
        "colab": {
          "base_uri": "https://localhost:8080/"
        },
        "id": "IP28j9ib7ySH",
        "outputId": "9b3a3ab1-4ff6-4006-fa18-4eba2ff8211c"
      },
      "execution_count": null,
      "outputs": [
        {
          "output_type": "stream",
          "name": "stdout",
          "text": [
            "<class 'pandas.core.frame.DataFrame'>\n",
            "RangeIndex: 6153591 entries, 0 to 6153590\n",
            "Data columns (total 25 columns):\n",
            " #   Column         Dtype \n",
            "---  ------         ----- \n",
            " 0   id_secuencial  int64 \n",
            " 1   tip_movi       object\n",
            " 2   tip_naci       object\n",
            " 3   anio_movi      int64 \n",
            " 4   mes_movi       object\n",
            " 5   dia_movi       int64 \n",
            " 6   sex_migr       object\n",
            " 7   nac_migr       object\n",
            " 8   subcont_nac    object\n",
            " 9   cont_nac       object\n",
            " 10  via_tran       object\n",
            " 11  mot_viam       object\n",
            " 12  pais_prod      object\n",
            " 13  subcont_prod   object\n",
            " 14  cont_prod      object\n",
            " 15  lug_prod       object\n",
            " 16  pais_res       object\n",
            " 17  subcont_res    object\n",
            " 18  cont_res       object\n",
            " 19  jef_migr       object\n",
            " 20  pro_jefm       object\n",
            " 21  can_jefm       object\n",
            " 22  cla_migr       object\n",
            " 23  ocu_migr       object\n",
            " 24  edad           int64 \n",
            "dtypes: int64(4), object(21)\n",
            "memory usage: 1.1+ GB\n"
          ]
        }
      ]
    },
    {
      "cell_type": "code",
      "source": [
        "df.head()"
      ],
      "metadata": {
        "colab": {
          "base_uri": "https://localhost:8080/",
          "height": 357
        },
        "id": "XadbDmgF3A8-",
        "outputId": "dd132c73-aa84-44be-8ea1-6dc008029798"
      },
      "execution_count": null,
      "outputs": [
        {
          "output_type": "execute_result",
          "data": {
            "text/plain": [
              "   id_secuencial tip_movi     tip_naci  anio_movi   mes_movi  dia_movi  \\\n",
              "0         434783   Salida  Ecuatoriano       2024      Junio        10   \n",
              "1        2319805  Entrada   Extranjero       2024      Junio         5   \n",
              "2        2705458   Salida  Ecuatoriano       2024  Noviembre        14   \n",
              "3        1233217   Salida  Ecuatoriano       2024      Julio         2   \n",
              "4        3063138   Salida  Ecuatoriano       2024  Diciembre        27   \n",
              "\n",
              "  sex_migr nac_migr      subcont_nac cont_nac  ...                lug_prod  \\\n",
              "0    Mujer  Ecuador  América del Sur  América  ...                  Tumbes   \n",
              "1   Hombre    China    Asia Oriental     Asia  ...  Los Ángeles California   \n",
              "2    Mujer  Ecuador  América del Sur  América  ...           Miami Florida   \n",
              "3   Hombre  Ecuador  América del Sur  América  ...             Panamá City   \n",
              "4    Mujer  Ecuador  América del Sur  América  ...     Cartagena de Indias   \n",
              "\n",
              "  pais_res      subcont_res cont_res  \\\n",
              "0  Ecuador  América del Sur  América   \n",
              "1    China    Asia Oriental     Asia   \n",
              "2  Ecuador  América del Sur  América   \n",
              "3  Ecuador  América del Sur  América   \n",
              "4  Ecuador  América del Sur  América   \n",
              "\n",
              "                                            jef_migr   pro_jefm    can_jefm  \\\n",
              "0  Centro Binacional de Atención Fronteriza Huaqu...     El Oro  Huaquillas   \n",
              "1    Aeropuerto Internacional José Joaquín de Olmedo     Guayas   Guayaquil   \n",
              "2            Aeropuerto Internacional Mariscal Sucre  Pichincha       Quito   \n",
              "3    Aeropuerto Internacional José Joaquín de Olmedo     Guayas   Guayaquil   \n",
              "4    Aeropuerto Internacional José Joaquín de Olmedo     Guayas   Guayaquil   \n",
              "\n",
              "                             cla_migr  \\\n",
              "0  Clase migratoria para ecuatorianos   \n",
              "1                   No inmigrante T-3   \n",
              "2  Clase migratoria para ecuatorianos   \n",
              "3  Clase migratoria para ecuatorianos   \n",
              "4  Clase migratoria para ecuatorianos   \n",
              "\n",
              "                                            ocu_migr edad  \n",
              "0       Especialistas en politicas de administracion   31  \n",
              "1  Personal de apoyo administrativo no clasificad...   55  \n",
              "2                                    Sin especificar   38  \n",
              "3                                    Menores de edad    7  \n",
              "4          Directores generales y gerentes generales   28  \n",
              "\n",
              "[5 rows x 25 columns]"
            ],
            "text/html": [
              "\n",
              "  <div id=\"df-51cc1747-c75d-498f-a465-cb66f47e268b\" class=\"colab-df-container\">\n",
              "    <div>\n",
              "<style scoped>\n",
              "    .dataframe tbody tr th:only-of-type {\n",
              "        vertical-align: middle;\n",
              "    }\n",
              "\n",
              "    .dataframe tbody tr th {\n",
              "        vertical-align: top;\n",
              "    }\n",
              "\n",
              "    .dataframe thead th {\n",
              "        text-align: right;\n",
              "    }\n",
              "</style>\n",
              "<table border=\"1\" class=\"dataframe\">\n",
              "  <thead>\n",
              "    <tr style=\"text-align: right;\">\n",
              "      <th></th>\n",
              "      <th>id_secuencial</th>\n",
              "      <th>tip_movi</th>\n",
              "      <th>tip_naci</th>\n",
              "      <th>anio_movi</th>\n",
              "      <th>mes_movi</th>\n",
              "      <th>dia_movi</th>\n",
              "      <th>sex_migr</th>\n",
              "      <th>nac_migr</th>\n",
              "      <th>subcont_nac</th>\n",
              "      <th>cont_nac</th>\n",
              "      <th>...</th>\n",
              "      <th>lug_prod</th>\n",
              "      <th>pais_res</th>\n",
              "      <th>subcont_res</th>\n",
              "      <th>cont_res</th>\n",
              "      <th>jef_migr</th>\n",
              "      <th>pro_jefm</th>\n",
              "      <th>can_jefm</th>\n",
              "      <th>cla_migr</th>\n",
              "      <th>ocu_migr</th>\n",
              "      <th>edad</th>\n",
              "    </tr>\n",
              "  </thead>\n",
              "  <tbody>\n",
              "    <tr>\n",
              "      <th>0</th>\n",
              "      <td>434783</td>\n",
              "      <td>Salida</td>\n",
              "      <td>Ecuatoriano</td>\n",
              "      <td>2024</td>\n",
              "      <td>Junio</td>\n",
              "      <td>10</td>\n",
              "      <td>Mujer</td>\n",
              "      <td>Ecuador</td>\n",
              "      <td>América del Sur</td>\n",
              "      <td>América</td>\n",
              "      <td>...</td>\n",
              "      <td>Tumbes</td>\n",
              "      <td>Ecuador</td>\n",
              "      <td>América del Sur</td>\n",
              "      <td>América</td>\n",
              "      <td>Centro Binacional de Atención Fronteriza Huaqu...</td>\n",
              "      <td>El Oro</td>\n",
              "      <td>Huaquillas</td>\n",
              "      <td>Clase migratoria para ecuatorianos</td>\n",
              "      <td>Especialistas en politicas de administracion</td>\n",
              "      <td>31</td>\n",
              "    </tr>\n",
              "    <tr>\n",
              "      <th>1</th>\n",
              "      <td>2319805</td>\n",
              "      <td>Entrada</td>\n",
              "      <td>Extranjero</td>\n",
              "      <td>2024</td>\n",
              "      <td>Junio</td>\n",
              "      <td>5</td>\n",
              "      <td>Hombre</td>\n",
              "      <td>China</td>\n",
              "      <td>Asia Oriental</td>\n",
              "      <td>Asia</td>\n",
              "      <td>...</td>\n",
              "      <td>Los Ángeles California</td>\n",
              "      <td>China</td>\n",
              "      <td>Asia Oriental</td>\n",
              "      <td>Asia</td>\n",
              "      <td>Aeropuerto Internacional José Joaquín de Olmedo</td>\n",
              "      <td>Guayas</td>\n",
              "      <td>Guayaquil</td>\n",
              "      <td>No inmigrante T-3</td>\n",
              "      <td>Personal de apoyo administrativo no clasificad...</td>\n",
              "      <td>55</td>\n",
              "    </tr>\n",
              "    <tr>\n",
              "      <th>2</th>\n",
              "      <td>2705458</td>\n",
              "      <td>Salida</td>\n",
              "      <td>Ecuatoriano</td>\n",
              "      <td>2024</td>\n",
              "      <td>Noviembre</td>\n",
              "      <td>14</td>\n",
              "      <td>Mujer</td>\n",
              "      <td>Ecuador</td>\n",
              "      <td>América del Sur</td>\n",
              "      <td>América</td>\n",
              "      <td>...</td>\n",
              "      <td>Miami Florida</td>\n",
              "      <td>Ecuador</td>\n",
              "      <td>América del Sur</td>\n",
              "      <td>América</td>\n",
              "      <td>Aeropuerto Internacional Mariscal Sucre</td>\n",
              "      <td>Pichincha</td>\n",
              "      <td>Quito</td>\n",
              "      <td>Clase migratoria para ecuatorianos</td>\n",
              "      <td>Sin especificar</td>\n",
              "      <td>38</td>\n",
              "    </tr>\n",
              "    <tr>\n",
              "      <th>3</th>\n",
              "      <td>1233217</td>\n",
              "      <td>Salida</td>\n",
              "      <td>Ecuatoriano</td>\n",
              "      <td>2024</td>\n",
              "      <td>Julio</td>\n",
              "      <td>2</td>\n",
              "      <td>Hombre</td>\n",
              "      <td>Ecuador</td>\n",
              "      <td>América del Sur</td>\n",
              "      <td>América</td>\n",
              "      <td>...</td>\n",
              "      <td>Panamá City</td>\n",
              "      <td>Ecuador</td>\n",
              "      <td>América del Sur</td>\n",
              "      <td>América</td>\n",
              "      <td>Aeropuerto Internacional José Joaquín de Olmedo</td>\n",
              "      <td>Guayas</td>\n",
              "      <td>Guayaquil</td>\n",
              "      <td>Clase migratoria para ecuatorianos</td>\n",
              "      <td>Menores de edad</td>\n",
              "      <td>7</td>\n",
              "    </tr>\n",
              "    <tr>\n",
              "      <th>4</th>\n",
              "      <td>3063138</td>\n",
              "      <td>Salida</td>\n",
              "      <td>Ecuatoriano</td>\n",
              "      <td>2024</td>\n",
              "      <td>Diciembre</td>\n",
              "      <td>27</td>\n",
              "      <td>Mujer</td>\n",
              "      <td>Ecuador</td>\n",
              "      <td>América del Sur</td>\n",
              "      <td>América</td>\n",
              "      <td>...</td>\n",
              "      <td>Cartagena de Indias</td>\n",
              "      <td>Ecuador</td>\n",
              "      <td>América del Sur</td>\n",
              "      <td>América</td>\n",
              "      <td>Aeropuerto Internacional José Joaquín de Olmedo</td>\n",
              "      <td>Guayas</td>\n",
              "      <td>Guayaquil</td>\n",
              "      <td>Clase migratoria para ecuatorianos</td>\n",
              "      <td>Directores generales y gerentes generales</td>\n",
              "      <td>28</td>\n",
              "    </tr>\n",
              "  </tbody>\n",
              "</table>\n",
              "<p>5 rows × 25 columns</p>\n",
              "</div>\n",
              "    <div class=\"colab-df-buttons\">\n",
              "\n",
              "  <div class=\"colab-df-container\">\n",
              "    <button class=\"colab-df-convert\" onclick=\"convertToInteractive('df-51cc1747-c75d-498f-a465-cb66f47e268b')\"\n",
              "            title=\"Convert this dataframe to an interactive table.\"\n",
              "            style=\"display:none;\">\n",
              "\n",
              "  <svg xmlns=\"http://www.w3.org/2000/svg\" height=\"24px\" viewBox=\"0 -960 960 960\">\n",
              "    <path d=\"M120-120v-720h720v720H120Zm60-500h600v-160H180v160Zm220 220h160v-160H400v160Zm0 220h160v-160H400v160ZM180-400h160v-160H180v160Zm440 0h160v-160H620v160ZM180-180h160v-160H180v160Zm440 0h160v-160H620v160Z\"/>\n",
              "  </svg>\n",
              "    </button>\n",
              "\n",
              "  <style>\n",
              "    .colab-df-container {\n",
              "      display:flex;\n",
              "      gap: 12px;\n",
              "    }\n",
              "\n",
              "    .colab-df-convert {\n",
              "      background-color: #E8F0FE;\n",
              "      border: none;\n",
              "      border-radius: 50%;\n",
              "      cursor: pointer;\n",
              "      display: none;\n",
              "      fill: #1967D2;\n",
              "      height: 32px;\n",
              "      padding: 0 0 0 0;\n",
              "      width: 32px;\n",
              "    }\n",
              "\n",
              "    .colab-df-convert:hover {\n",
              "      background-color: #E2EBFA;\n",
              "      box-shadow: 0px 1px 2px rgba(60, 64, 67, 0.3), 0px 1px 3px 1px rgba(60, 64, 67, 0.15);\n",
              "      fill: #174EA6;\n",
              "    }\n",
              "\n",
              "    .colab-df-buttons div {\n",
              "      margin-bottom: 4px;\n",
              "    }\n",
              "\n",
              "    [theme=dark] .colab-df-convert {\n",
              "      background-color: #3B4455;\n",
              "      fill: #D2E3FC;\n",
              "    }\n",
              "\n",
              "    [theme=dark] .colab-df-convert:hover {\n",
              "      background-color: #434B5C;\n",
              "      box-shadow: 0px 1px 3px 1px rgba(0, 0, 0, 0.15);\n",
              "      filter: drop-shadow(0px 1px 2px rgba(0, 0, 0, 0.3));\n",
              "      fill: #FFFFFF;\n",
              "    }\n",
              "  </style>\n",
              "\n",
              "    <script>\n",
              "      const buttonEl =\n",
              "        document.querySelector('#df-51cc1747-c75d-498f-a465-cb66f47e268b button.colab-df-convert');\n",
              "      buttonEl.style.display =\n",
              "        google.colab.kernel.accessAllowed ? 'block' : 'none';\n",
              "\n",
              "      async function convertToInteractive(key) {\n",
              "        const element = document.querySelector('#df-51cc1747-c75d-498f-a465-cb66f47e268b');\n",
              "        const dataTable =\n",
              "          await google.colab.kernel.invokeFunction('convertToInteractive',\n",
              "                                                    [key], {});\n",
              "        if (!dataTable) return;\n",
              "\n",
              "        const docLinkHtml = 'Like what you see? Visit the ' +\n",
              "          '<a target=\"_blank\" href=https://colab.research.google.com/notebooks/data_table.ipynb>data table notebook</a>'\n",
              "          + ' to learn more about interactive tables.';\n",
              "        element.innerHTML = '';\n",
              "        dataTable['output_type'] = 'display_data';\n",
              "        await google.colab.output.renderOutput(dataTable, element);\n",
              "        const docLink = document.createElement('div');\n",
              "        docLink.innerHTML = docLinkHtml;\n",
              "        element.appendChild(docLink);\n",
              "      }\n",
              "    </script>\n",
              "  </div>\n",
              "\n",
              "\n",
              "    <div id=\"df-155bc365-50eb-4066-986b-e882db99c56e\">\n",
              "      <button class=\"colab-df-quickchart\" onclick=\"quickchart('df-155bc365-50eb-4066-986b-e882db99c56e')\"\n",
              "                title=\"Suggest charts\"\n",
              "                style=\"display:none;\">\n",
              "\n",
              "<svg xmlns=\"http://www.w3.org/2000/svg\" height=\"24px\"viewBox=\"0 0 24 24\"\n",
              "     width=\"24px\">\n",
              "    <g>\n",
              "        <path d=\"M19 3H5c-1.1 0-2 .9-2 2v14c0 1.1.9 2 2 2h14c1.1 0 2-.9 2-2V5c0-1.1-.9-2-2-2zM9 17H7v-7h2v7zm4 0h-2V7h2v10zm4 0h-2v-4h2v4z\"/>\n",
              "    </g>\n",
              "</svg>\n",
              "      </button>\n",
              "\n",
              "<style>\n",
              "  .colab-df-quickchart {\n",
              "      --bg-color: #E8F0FE;\n",
              "      --fill-color: #1967D2;\n",
              "      --hover-bg-color: #E2EBFA;\n",
              "      --hover-fill-color: #174EA6;\n",
              "      --disabled-fill-color: #AAA;\n",
              "      --disabled-bg-color: #DDD;\n",
              "  }\n",
              "\n",
              "  [theme=dark] .colab-df-quickchart {\n",
              "      --bg-color: #3B4455;\n",
              "      --fill-color: #D2E3FC;\n",
              "      --hover-bg-color: #434B5C;\n",
              "      --hover-fill-color: #FFFFFF;\n",
              "      --disabled-bg-color: #3B4455;\n",
              "      --disabled-fill-color: #666;\n",
              "  }\n",
              "\n",
              "  .colab-df-quickchart {\n",
              "    background-color: var(--bg-color);\n",
              "    border: none;\n",
              "    border-radius: 50%;\n",
              "    cursor: pointer;\n",
              "    display: none;\n",
              "    fill: var(--fill-color);\n",
              "    height: 32px;\n",
              "    padding: 0;\n",
              "    width: 32px;\n",
              "  }\n",
              "\n",
              "  .colab-df-quickchart:hover {\n",
              "    background-color: var(--hover-bg-color);\n",
              "    box-shadow: 0 1px 2px rgba(60, 64, 67, 0.3), 0 1px 3px 1px rgba(60, 64, 67, 0.15);\n",
              "    fill: var(--button-hover-fill-color);\n",
              "  }\n",
              "\n",
              "  .colab-df-quickchart-complete:disabled,\n",
              "  .colab-df-quickchart-complete:disabled:hover {\n",
              "    background-color: var(--disabled-bg-color);\n",
              "    fill: var(--disabled-fill-color);\n",
              "    box-shadow: none;\n",
              "  }\n",
              "\n",
              "  .colab-df-spinner {\n",
              "    border: 2px solid var(--fill-color);\n",
              "    border-color: transparent;\n",
              "    border-bottom-color: var(--fill-color);\n",
              "    animation:\n",
              "      spin 1s steps(1) infinite;\n",
              "  }\n",
              "\n",
              "  @keyframes spin {\n",
              "    0% {\n",
              "      border-color: transparent;\n",
              "      border-bottom-color: var(--fill-color);\n",
              "      border-left-color: var(--fill-color);\n",
              "    }\n",
              "    20% {\n",
              "      border-color: transparent;\n",
              "      border-left-color: var(--fill-color);\n",
              "      border-top-color: var(--fill-color);\n",
              "    }\n",
              "    30% {\n",
              "      border-color: transparent;\n",
              "      border-left-color: var(--fill-color);\n",
              "      border-top-color: var(--fill-color);\n",
              "      border-right-color: var(--fill-color);\n",
              "    }\n",
              "    40% {\n",
              "      border-color: transparent;\n",
              "      border-right-color: var(--fill-color);\n",
              "      border-top-color: var(--fill-color);\n",
              "    }\n",
              "    60% {\n",
              "      border-color: transparent;\n",
              "      border-right-color: var(--fill-color);\n",
              "    }\n",
              "    80% {\n",
              "      border-color: transparent;\n",
              "      border-right-color: var(--fill-color);\n",
              "      border-bottom-color: var(--fill-color);\n",
              "    }\n",
              "    90% {\n",
              "      border-color: transparent;\n",
              "      border-bottom-color: var(--fill-color);\n",
              "    }\n",
              "  }\n",
              "</style>\n",
              "\n",
              "      <script>\n",
              "        async function quickchart(key) {\n",
              "          const quickchartButtonEl =\n",
              "            document.querySelector('#' + key + ' button');\n",
              "          quickchartButtonEl.disabled = true;  // To prevent multiple clicks.\n",
              "          quickchartButtonEl.classList.add('colab-df-spinner');\n",
              "          try {\n",
              "            const charts = await google.colab.kernel.invokeFunction(\n",
              "                'suggestCharts', [key], {});\n",
              "          } catch (error) {\n",
              "            console.error('Error during call to suggestCharts:', error);\n",
              "          }\n",
              "          quickchartButtonEl.classList.remove('colab-df-spinner');\n",
              "          quickchartButtonEl.classList.add('colab-df-quickchart-complete');\n",
              "        }\n",
              "        (() => {\n",
              "          let quickchartButtonEl =\n",
              "            document.querySelector('#df-155bc365-50eb-4066-986b-e882db99c56e button');\n",
              "          quickchartButtonEl.style.display =\n",
              "            google.colab.kernel.accessAllowed ? 'block' : 'none';\n",
              "        })();\n",
              "      </script>\n",
              "    </div>\n",
              "\n",
              "    </div>\n",
              "  </div>\n"
            ],
            "application/vnd.google.colaboratory.intrinsic+json": {
              "type": "dataframe",
              "variable_name": "df"
            }
          },
          "metadata": {},
          "execution_count": 16
        }
      ]
    },
    {
      "cell_type": "markdown",
      "source": [
        "El dataset tiene 6 153 591 registros y 25 columnas.\n",
        "\n",
        "Las columnas **`id_secuencial`**, **`anio_movi`**, **`dia_movi`** y **`edad`** son de tipo numérico mientras que el resto son de tipo texto."
      ],
      "metadata": {
        "id": "iS5Lxv-Q6zsx"
      }
    },
    {
      "cell_type": "markdown",
      "source": [
        "### **EXPLORATORY DATA ANALYSIS**\n",
        "\n",
        "---\n",
        "\n"
      ],
      "metadata": {
        "id": "gbxPT3EoYOBO"
      }
    },
    {
      "cell_type": "code",
      "source": [
        "data = df.drop('id_secuencial', axis = 1)"
      ],
      "metadata": {
        "id": "mpw1xtcQNH9e"
      },
      "execution_count": null,
      "outputs": []
    },
    {
      "cell_type": "code",
      "source": [
        "# Conteo de nulos\n",
        "print(data.isnull().sum())"
      ],
      "metadata": {
        "colab": {
          "base_uri": "https://localhost:8080/"
        },
        "id": "reFEBepWNv9w",
        "outputId": "5b085bb2-3d31-4c25-9aad-b0dd6641e6e7"
      },
      "execution_count": null,
      "outputs": [
        {
          "output_type": "stream",
          "name": "stdout",
          "text": [
            "tip_movi             0\n",
            "tip_naci             0\n",
            "anio_movi            0\n",
            "mes_movi             0\n",
            "dia_movi             0\n",
            "sex_migr             0\n",
            "nac_migr             0\n",
            "subcont_nac          0\n",
            "cont_nac             0\n",
            "via_tran             0\n",
            "mot_viam             0\n",
            "pais_prod            0\n",
            "subcont_prod         0\n",
            "cont_prod            0\n",
            "lug_prod             0\n",
            "pais_res             0\n",
            "subcont_res          0\n",
            "cont_res             0\n",
            "jef_migr             0\n",
            "pro_jefm             0\n",
            "can_jefm             0\n",
            "cla_migr        586046\n",
            "ocu_migr             0\n",
            "edad                 0\n",
            "dtype: int64\n"
          ]
        }
      ]
    },
    {
      "cell_type": "code",
      "source": [
        "#Quitar la palabra Vía\n",
        "data['via_tran'] = data['via_tran'].str.replace('Vía', '', regex=False)"
      ],
      "metadata": {
        "id": "ZjuV24c9Naru"
      },
      "execution_count": null,
      "outputs": []
    },
    {
      "cell_type": "code",
      "source": [
        "data['via_tran'] = data['via_tran'].str.replace('Aérea', 'aerea', regex=False)\n",
        "data['via_tran'] = data['via_tran'].str.replace('terrestre', 'terrestre', regex=False)\n",
        "data['via_tran'] = data['via_tran'].str.replace('Marítimo', 'maritimo', regex=False)\n",
        "\n",
        "data['via_tran'].unique()"
      ],
      "metadata": {
        "colab": {
          "base_uri": "https://localhost:8080/"
        },
        "id": "8FlkJIwbNfKG",
        "outputId": "50c268f6-7ebb-437a-9322-c9c73505ec48"
      },
      "execution_count": null,
      "outputs": [
        {
          "output_type": "execute_result",
          "data": {
            "text/plain": [
              "array([' terrestre', ' aerea', ' maritimo', ' fluvial'], dtype=object)"
            ]
          },
          "metadata": {},
          "execution_count": 7
        }
      ]
    },
    {
      "cell_type": "code",
      "source": [
        "data.head()"
      ],
      "metadata": {
        "colab": {
          "base_uri": "https://localhost:8080/",
          "height": 357
        },
        "id": "PSluxa3sNOZ2",
        "outputId": "9d8d0559-8100-47d8-dd45-05bb75027082"
      },
      "execution_count": null,
      "outputs": [
        {
          "output_type": "execute_result",
          "data": {
            "text/plain": [
              "  tip_movi     tip_naci  anio_movi   mes_movi  dia_movi sex_migr nac_migr  \\\n",
              "0   Salida  Ecuatoriano       2024      Junio        10    Mujer  Ecuador   \n",
              "1  Entrada   Extranjero       2024      Junio         5   Hombre    China   \n",
              "2   Salida  Ecuatoriano       2024  Noviembre        14    Mujer  Ecuador   \n",
              "3   Salida  Ecuatoriano       2024      Julio         2   Hombre  Ecuador   \n",
              "4   Salida  Ecuatoriano       2024  Diciembre        27    Mujer  Ecuador   \n",
              "\n",
              "       subcont_nac cont_nac    via_tran  ...                lug_prod pais_res  \\\n",
              "0  América del Sur  América   terrestre  ...                  Tumbes  Ecuador   \n",
              "1    Asia Oriental     Asia       aerea  ...  Los Ángeles California    China   \n",
              "2  América del Sur  América       aerea  ...           Miami Florida  Ecuador   \n",
              "3  América del Sur  América       aerea  ...             Panamá City  Ecuador   \n",
              "4  América del Sur  América       aerea  ...     Cartagena de Indias  Ecuador   \n",
              "\n",
              "       subcont_res cont_res  \\\n",
              "0  América del Sur  América   \n",
              "1    Asia Oriental     Asia   \n",
              "2  América del Sur  América   \n",
              "3  América del Sur  América   \n",
              "4  América del Sur  América   \n",
              "\n",
              "                                            jef_migr   pro_jefm    can_jefm  \\\n",
              "0  Centro Binacional de Atención Fronteriza Huaqu...     El Oro  Huaquillas   \n",
              "1    Aeropuerto Internacional José Joaquín de Olmedo     Guayas   Guayaquil   \n",
              "2            Aeropuerto Internacional Mariscal Sucre  Pichincha       Quito   \n",
              "3    Aeropuerto Internacional José Joaquín de Olmedo     Guayas   Guayaquil   \n",
              "4    Aeropuerto Internacional José Joaquín de Olmedo     Guayas   Guayaquil   \n",
              "\n",
              "                             cla_migr  \\\n",
              "0  Clase migratoria para ecuatorianos   \n",
              "1                   No inmigrante T-3   \n",
              "2  Clase migratoria para ecuatorianos   \n",
              "3  Clase migratoria para ecuatorianos   \n",
              "4  Clase migratoria para ecuatorianos   \n",
              "\n",
              "                                            ocu_migr edad  \n",
              "0       Especialistas en politicas de administracion   31  \n",
              "1  Personal de apoyo administrativo no clasificad...   55  \n",
              "2                                    Sin especificar   38  \n",
              "3                                    Menores de edad    7  \n",
              "4          Directores generales y gerentes generales   28  \n",
              "\n",
              "[5 rows x 24 columns]"
            ],
            "text/html": [
              "\n",
              "  <div id=\"df-21555d4e-9bfe-4d28-90fe-ce053de5d5ff\" class=\"colab-df-container\">\n",
              "    <div>\n",
              "<style scoped>\n",
              "    .dataframe tbody tr th:only-of-type {\n",
              "        vertical-align: middle;\n",
              "    }\n",
              "\n",
              "    .dataframe tbody tr th {\n",
              "        vertical-align: top;\n",
              "    }\n",
              "\n",
              "    .dataframe thead th {\n",
              "        text-align: right;\n",
              "    }\n",
              "</style>\n",
              "<table border=\"1\" class=\"dataframe\">\n",
              "  <thead>\n",
              "    <tr style=\"text-align: right;\">\n",
              "      <th></th>\n",
              "      <th>tip_movi</th>\n",
              "      <th>tip_naci</th>\n",
              "      <th>anio_movi</th>\n",
              "      <th>mes_movi</th>\n",
              "      <th>dia_movi</th>\n",
              "      <th>sex_migr</th>\n",
              "      <th>nac_migr</th>\n",
              "      <th>subcont_nac</th>\n",
              "      <th>cont_nac</th>\n",
              "      <th>via_tran</th>\n",
              "      <th>...</th>\n",
              "      <th>lug_prod</th>\n",
              "      <th>pais_res</th>\n",
              "      <th>subcont_res</th>\n",
              "      <th>cont_res</th>\n",
              "      <th>jef_migr</th>\n",
              "      <th>pro_jefm</th>\n",
              "      <th>can_jefm</th>\n",
              "      <th>cla_migr</th>\n",
              "      <th>ocu_migr</th>\n",
              "      <th>edad</th>\n",
              "    </tr>\n",
              "  </thead>\n",
              "  <tbody>\n",
              "    <tr>\n",
              "      <th>0</th>\n",
              "      <td>Salida</td>\n",
              "      <td>Ecuatoriano</td>\n",
              "      <td>2024</td>\n",
              "      <td>Junio</td>\n",
              "      <td>10</td>\n",
              "      <td>Mujer</td>\n",
              "      <td>Ecuador</td>\n",
              "      <td>América del Sur</td>\n",
              "      <td>América</td>\n",
              "      <td>terrestre</td>\n",
              "      <td>...</td>\n",
              "      <td>Tumbes</td>\n",
              "      <td>Ecuador</td>\n",
              "      <td>América del Sur</td>\n",
              "      <td>América</td>\n",
              "      <td>Centro Binacional de Atención Fronteriza Huaqu...</td>\n",
              "      <td>El Oro</td>\n",
              "      <td>Huaquillas</td>\n",
              "      <td>Clase migratoria para ecuatorianos</td>\n",
              "      <td>Especialistas en politicas de administracion</td>\n",
              "      <td>31</td>\n",
              "    </tr>\n",
              "    <tr>\n",
              "      <th>1</th>\n",
              "      <td>Entrada</td>\n",
              "      <td>Extranjero</td>\n",
              "      <td>2024</td>\n",
              "      <td>Junio</td>\n",
              "      <td>5</td>\n",
              "      <td>Hombre</td>\n",
              "      <td>China</td>\n",
              "      <td>Asia Oriental</td>\n",
              "      <td>Asia</td>\n",
              "      <td>aerea</td>\n",
              "      <td>...</td>\n",
              "      <td>Los Ángeles California</td>\n",
              "      <td>China</td>\n",
              "      <td>Asia Oriental</td>\n",
              "      <td>Asia</td>\n",
              "      <td>Aeropuerto Internacional José Joaquín de Olmedo</td>\n",
              "      <td>Guayas</td>\n",
              "      <td>Guayaquil</td>\n",
              "      <td>No inmigrante T-3</td>\n",
              "      <td>Personal de apoyo administrativo no clasificad...</td>\n",
              "      <td>55</td>\n",
              "    </tr>\n",
              "    <tr>\n",
              "      <th>2</th>\n",
              "      <td>Salida</td>\n",
              "      <td>Ecuatoriano</td>\n",
              "      <td>2024</td>\n",
              "      <td>Noviembre</td>\n",
              "      <td>14</td>\n",
              "      <td>Mujer</td>\n",
              "      <td>Ecuador</td>\n",
              "      <td>América del Sur</td>\n",
              "      <td>América</td>\n",
              "      <td>aerea</td>\n",
              "      <td>...</td>\n",
              "      <td>Miami Florida</td>\n",
              "      <td>Ecuador</td>\n",
              "      <td>América del Sur</td>\n",
              "      <td>América</td>\n",
              "      <td>Aeropuerto Internacional Mariscal Sucre</td>\n",
              "      <td>Pichincha</td>\n",
              "      <td>Quito</td>\n",
              "      <td>Clase migratoria para ecuatorianos</td>\n",
              "      <td>Sin especificar</td>\n",
              "      <td>38</td>\n",
              "    </tr>\n",
              "    <tr>\n",
              "      <th>3</th>\n",
              "      <td>Salida</td>\n",
              "      <td>Ecuatoriano</td>\n",
              "      <td>2024</td>\n",
              "      <td>Julio</td>\n",
              "      <td>2</td>\n",
              "      <td>Hombre</td>\n",
              "      <td>Ecuador</td>\n",
              "      <td>América del Sur</td>\n",
              "      <td>América</td>\n",
              "      <td>aerea</td>\n",
              "      <td>...</td>\n",
              "      <td>Panamá City</td>\n",
              "      <td>Ecuador</td>\n",
              "      <td>América del Sur</td>\n",
              "      <td>América</td>\n",
              "      <td>Aeropuerto Internacional José Joaquín de Olmedo</td>\n",
              "      <td>Guayas</td>\n",
              "      <td>Guayaquil</td>\n",
              "      <td>Clase migratoria para ecuatorianos</td>\n",
              "      <td>Menores de edad</td>\n",
              "      <td>7</td>\n",
              "    </tr>\n",
              "    <tr>\n",
              "      <th>4</th>\n",
              "      <td>Salida</td>\n",
              "      <td>Ecuatoriano</td>\n",
              "      <td>2024</td>\n",
              "      <td>Diciembre</td>\n",
              "      <td>27</td>\n",
              "      <td>Mujer</td>\n",
              "      <td>Ecuador</td>\n",
              "      <td>América del Sur</td>\n",
              "      <td>América</td>\n",
              "      <td>aerea</td>\n",
              "      <td>...</td>\n",
              "      <td>Cartagena de Indias</td>\n",
              "      <td>Ecuador</td>\n",
              "      <td>América del Sur</td>\n",
              "      <td>América</td>\n",
              "      <td>Aeropuerto Internacional José Joaquín de Olmedo</td>\n",
              "      <td>Guayas</td>\n",
              "      <td>Guayaquil</td>\n",
              "      <td>Clase migratoria para ecuatorianos</td>\n",
              "      <td>Directores generales y gerentes generales</td>\n",
              "      <td>28</td>\n",
              "    </tr>\n",
              "  </tbody>\n",
              "</table>\n",
              "<p>5 rows × 24 columns</p>\n",
              "</div>\n",
              "    <div class=\"colab-df-buttons\">\n",
              "\n",
              "  <div class=\"colab-df-container\">\n",
              "    <button class=\"colab-df-convert\" onclick=\"convertToInteractive('df-21555d4e-9bfe-4d28-90fe-ce053de5d5ff')\"\n",
              "            title=\"Convert this dataframe to an interactive table.\"\n",
              "            style=\"display:none;\">\n",
              "\n",
              "  <svg xmlns=\"http://www.w3.org/2000/svg\" height=\"24px\" viewBox=\"0 -960 960 960\">\n",
              "    <path d=\"M120-120v-720h720v720H120Zm60-500h600v-160H180v160Zm220 220h160v-160H400v160Zm0 220h160v-160H400v160ZM180-400h160v-160H180v160Zm440 0h160v-160H620v160ZM180-180h160v-160H180v160Zm440 0h160v-160H620v160Z\"/>\n",
              "  </svg>\n",
              "    </button>\n",
              "\n",
              "  <style>\n",
              "    .colab-df-container {\n",
              "      display:flex;\n",
              "      gap: 12px;\n",
              "    }\n",
              "\n",
              "    .colab-df-convert {\n",
              "      background-color: #E8F0FE;\n",
              "      border: none;\n",
              "      border-radius: 50%;\n",
              "      cursor: pointer;\n",
              "      display: none;\n",
              "      fill: #1967D2;\n",
              "      height: 32px;\n",
              "      padding: 0 0 0 0;\n",
              "      width: 32px;\n",
              "    }\n",
              "\n",
              "    .colab-df-convert:hover {\n",
              "      background-color: #E2EBFA;\n",
              "      box-shadow: 0px 1px 2px rgba(60, 64, 67, 0.3), 0px 1px 3px 1px rgba(60, 64, 67, 0.15);\n",
              "      fill: #174EA6;\n",
              "    }\n",
              "\n",
              "    .colab-df-buttons div {\n",
              "      margin-bottom: 4px;\n",
              "    }\n",
              "\n",
              "    [theme=dark] .colab-df-convert {\n",
              "      background-color: #3B4455;\n",
              "      fill: #D2E3FC;\n",
              "    }\n",
              "\n",
              "    [theme=dark] .colab-df-convert:hover {\n",
              "      background-color: #434B5C;\n",
              "      box-shadow: 0px 1px 3px 1px rgba(0, 0, 0, 0.15);\n",
              "      filter: drop-shadow(0px 1px 2px rgba(0, 0, 0, 0.3));\n",
              "      fill: #FFFFFF;\n",
              "    }\n",
              "  </style>\n",
              "\n",
              "    <script>\n",
              "      const buttonEl =\n",
              "        document.querySelector('#df-21555d4e-9bfe-4d28-90fe-ce053de5d5ff button.colab-df-convert');\n",
              "      buttonEl.style.display =\n",
              "        google.colab.kernel.accessAllowed ? 'block' : 'none';\n",
              "\n",
              "      async function convertToInteractive(key) {\n",
              "        const element = document.querySelector('#df-21555d4e-9bfe-4d28-90fe-ce053de5d5ff');\n",
              "        const dataTable =\n",
              "          await google.colab.kernel.invokeFunction('convertToInteractive',\n",
              "                                                    [key], {});\n",
              "        if (!dataTable) return;\n",
              "\n",
              "        const docLinkHtml = 'Like what you see? Visit the ' +\n",
              "          '<a target=\"_blank\" href=https://colab.research.google.com/notebooks/data_table.ipynb>data table notebook</a>'\n",
              "          + ' to learn more about interactive tables.';\n",
              "        element.innerHTML = '';\n",
              "        dataTable['output_type'] = 'display_data';\n",
              "        await google.colab.output.renderOutput(dataTable, element);\n",
              "        const docLink = document.createElement('div');\n",
              "        docLink.innerHTML = docLinkHtml;\n",
              "        element.appendChild(docLink);\n",
              "      }\n",
              "    </script>\n",
              "  </div>\n",
              "\n",
              "\n",
              "    <div id=\"df-cbaeae02-6e65-4476-afb4-f195c0db650a\">\n",
              "      <button class=\"colab-df-quickchart\" onclick=\"quickchart('df-cbaeae02-6e65-4476-afb4-f195c0db650a')\"\n",
              "                title=\"Suggest charts\"\n",
              "                style=\"display:none;\">\n",
              "\n",
              "<svg xmlns=\"http://www.w3.org/2000/svg\" height=\"24px\"viewBox=\"0 0 24 24\"\n",
              "     width=\"24px\">\n",
              "    <g>\n",
              "        <path d=\"M19 3H5c-1.1 0-2 .9-2 2v14c0 1.1.9 2 2 2h14c1.1 0 2-.9 2-2V5c0-1.1-.9-2-2-2zM9 17H7v-7h2v7zm4 0h-2V7h2v10zm4 0h-2v-4h2v4z\"/>\n",
              "    </g>\n",
              "</svg>\n",
              "      </button>\n",
              "\n",
              "<style>\n",
              "  .colab-df-quickchart {\n",
              "      --bg-color: #E8F0FE;\n",
              "      --fill-color: #1967D2;\n",
              "      --hover-bg-color: #E2EBFA;\n",
              "      --hover-fill-color: #174EA6;\n",
              "      --disabled-fill-color: #AAA;\n",
              "      --disabled-bg-color: #DDD;\n",
              "  }\n",
              "\n",
              "  [theme=dark] .colab-df-quickchart {\n",
              "      --bg-color: #3B4455;\n",
              "      --fill-color: #D2E3FC;\n",
              "      --hover-bg-color: #434B5C;\n",
              "      --hover-fill-color: #FFFFFF;\n",
              "      --disabled-bg-color: #3B4455;\n",
              "      --disabled-fill-color: #666;\n",
              "  }\n",
              "\n",
              "  .colab-df-quickchart {\n",
              "    background-color: var(--bg-color);\n",
              "    border: none;\n",
              "    border-radius: 50%;\n",
              "    cursor: pointer;\n",
              "    display: none;\n",
              "    fill: var(--fill-color);\n",
              "    height: 32px;\n",
              "    padding: 0;\n",
              "    width: 32px;\n",
              "  }\n",
              "\n",
              "  .colab-df-quickchart:hover {\n",
              "    background-color: var(--hover-bg-color);\n",
              "    box-shadow: 0 1px 2px rgba(60, 64, 67, 0.3), 0 1px 3px 1px rgba(60, 64, 67, 0.15);\n",
              "    fill: var(--button-hover-fill-color);\n",
              "  }\n",
              "\n",
              "  .colab-df-quickchart-complete:disabled,\n",
              "  .colab-df-quickchart-complete:disabled:hover {\n",
              "    background-color: var(--disabled-bg-color);\n",
              "    fill: var(--disabled-fill-color);\n",
              "    box-shadow: none;\n",
              "  }\n",
              "\n",
              "  .colab-df-spinner {\n",
              "    border: 2px solid var(--fill-color);\n",
              "    border-color: transparent;\n",
              "    border-bottom-color: var(--fill-color);\n",
              "    animation:\n",
              "      spin 1s steps(1) infinite;\n",
              "  }\n",
              "\n",
              "  @keyframes spin {\n",
              "    0% {\n",
              "      border-color: transparent;\n",
              "      border-bottom-color: var(--fill-color);\n",
              "      border-left-color: var(--fill-color);\n",
              "    }\n",
              "    20% {\n",
              "      border-color: transparent;\n",
              "      border-left-color: var(--fill-color);\n",
              "      border-top-color: var(--fill-color);\n",
              "    }\n",
              "    30% {\n",
              "      border-color: transparent;\n",
              "      border-left-color: var(--fill-color);\n",
              "      border-top-color: var(--fill-color);\n",
              "      border-right-color: var(--fill-color);\n",
              "    }\n",
              "    40% {\n",
              "      border-color: transparent;\n",
              "      border-right-color: var(--fill-color);\n",
              "      border-top-color: var(--fill-color);\n",
              "    }\n",
              "    60% {\n",
              "      border-color: transparent;\n",
              "      border-right-color: var(--fill-color);\n",
              "    }\n",
              "    80% {\n",
              "      border-color: transparent;\n",
              "      border-right-color: var(--fill-color);\n",
              "      border-bottom-color: var(--fill-color);\n",
              "    }\n",
              "    90% {\n",
              "      border-color: transparent;\n",
              "      border-bottom-color: var(--fill-color);\n",
              "    }\n",
              "  }\n",
              "</style>\n",
              "\n",
              "      <script>\n",
              "        async function quickchart(key) {\n",
              "          const quickchartButtonEl =\n",
              "            document.querySelector('#' + key + ' button');\n",
              "          quickchartButtonEl.disabled = true;  // To prevent multiple clicks.\n",
              "          quickchartButtonEl.classList.add('colab-df-spinner');\n",
              "          try {\n",
              "            const charts = await google.colab.kernel.invokeFunction(\n",
              "                'suggestCharts', [key], {});\n",
              "          } catch (error) {\n",
              "            console.error('Error during call to suggestCharts:', error);\n",
              "          }\n",
              "          quickchartButtonEl.classList.remove('colab-df-spinner');\n",
              "          quickchartButtonEl.classList.add('colab-df-quickchart-complete');\n",
              "        }\n",
              "        (() => {\n",
              "          let quickchartButtonEl =\n",
              "            document.querySelector('#df-cbaeae02-6e65-4476-afb4-f195c0db650a button');\n",
              "          quickchartButtonEl.style.display =\n",
              "            google.colab.kernel.accessAllowed ? 'block' : 'none';\n",
              "        })();\n",
              "      </script>\n",
              "    </div>\n",
              "\n",
              "    </div>\n",
              "  </div>\n"
            ],
            "application/vnd.google.colaboratory.intrinsic+json": {
              "type": "dataframe",
              "variable_name": "data"
            }
          },
          "metadata": {},
          "execution_count": 8
        }
      ]
    },
    {
      "cell_type": "code",
      "source": [
        "data['ocu_migr'].unique()"
      ],
      "metadata": {
        "colab": {
          "base_uri": "https://localhost:8080/"
        },
        "id": "yMnHJOHgWNG-",
        "outputId": "5a759672-d63b-4e05-ccba-0f85013ef63d"
      },
      "execution_count": 26,
      "outputs": [
        {
          "output_type": "execute_result",
          "data": {
            "text/plain": [
              "array(['Especialistas en politicas de administracion',\n",
              "       'Personal de apoyo administrativo no clasificado bajo otros epigrafes',\n",
              "       'Sin especificar', 'Menores de edad',\n",
              "       'Directores generales y gerentes generales', 'Actores',\n",
              "       'Amas de casa', 'Asistentes de venta de tiendas y almacenes',\n",
              "       'Oficiales, operarios y artesanos de artes mecanicas y de otros oficios no clasificados bajo otros epigrafes',\n",
              "       'Ingenieros no clasificados bajo otros epigrafes',\n",
              "       'Ingenieros de minas, metalurgicos y afines', 'Ingenieros civiles',\n",
              "       'Asesores financieros y en inversiones', 'Comerciantes de tiendas',\n",
              "       'Veterinarios', 'Capitanes, oficiales de cubierta y practicos',\n",
              "       'Profesionales de la ensenanza no clasificados bajo otros epigrafes',\n",
              "       'Arquitectos', 'Estudiantes', 'Profesionales de enfermeria',\n",
              "       'Contables',\n",
              "       'Profesionales de la publicidad y la comercializacion',\n",
              "       'Tecnicos en ingenieria mecanica', 'Jubilados y pensionistas',\n",
              "       'Medicos generales', 'Analistas de gestion y organizacion',\n",
              "       'Artesanos no clasificados bajo otros epigrafes', 'Abogados',\n",
              "       'Profesionales de ventas tecnicas y medicas (excluyendo la tic)',\n",
              "       'Dentistas',\n",
              "       'Tecnicos en ciencias fisicas y en ingenieria no clasificados bajo otros epigrafes',\n",
              "       'Musicos, cantantes y compositores',\n",
              "       'Auxiliares laicos de las religiones', 'Periodistas',\n",
              "       'Inspectores de la salud laboral, medioambiental y afines',\n",
              "       'Limpiadores y asistentes de oficinas, hoteles y otros establecimientos',\n",
              "       'Ingenieros electricistas', 'Psicologos',\n",
              "       'Trabajadores de explotacion de acuicultura',\n",
              "       'Agricultores y trabajadores calificados de jardines y de cultivos para el mercado',\n",
              "       'Albaniles', 'Conductores de automoviles, taxis y camionetas',\n",
              "       'Profesores de formacion profesional',\n",
              "       'Profesionales de la proteccion medio ambiental',\n",
              "       'Pilotos de aviacion y afines', 'Chefs', 'Atletas y deportistas',\n",
              "       'Cajeros de bancos y afines', 'Peluqueros',\n",
              "       'Especialistas en tratamiento de belleza y afines',\n",
              "       'Limpiadores y asistentes domesticos',\n",
              "       'Artistas de artes plasticas',\n",
              "       'Oficiales y operarios de la construccion (obra gruesa) y afines  no clasificados bajo otros epigrafes',\n",
              "       'Quimicos', 'Costureros, bordadores y afines',\n",
              "       'Ingenieros industriales y de produccion',\n",
              "       'Miembros del poder ejecutivo y de los gobiernos locales o seccionales',\n",
              "       'Agronomos y afines', 'Profesionales de relaciones publicas',\n",
              "       'Ingenieros en telecomunicaciones', 'Empacadores manuales',\n",
              "       'Agricultores y trabajadores calificados de huertas, invernaderos, viveros y jardines',\n",
              "       'Otros miembros de las fuerzas armadas', 'Economistas',\n",
              "       'Conserjes', 'Peones de carga', 'Secretarios (generales)',\n",
              "       'Analistas financieros',\n",
              "       'Operadores de instalaciones de refinacion de petroleo y gas natural',\n",
              "       'Disenadores y decoradores de interior', 'Chapistas y caldereros',\n",
              "       'Artistas creativos e interpretativos no clasificados bajo otros epigrafes',\n",
              "       'Bomberos', 'Cocineros', 'Profesionales del trabajo social',\n",
              "       'Lavanderos y planchadores manuales', 'Fotografos',\n",
              "       'Marineros de cubierta y afines', 'Medicos especialistas',\n",
              "       'Guardianes de proteccion',\n",
              "       'Entrenadores instructores y arbitros de actividades deportivas',\n",
              "       'Oficinistas generales', 'Ingenieros quimicos',\n",
              "       'Ingenieros mecanicos', 'Policias', 'Guias de turismo',\n",
              "       'Profesionales de medicina tradicional y alternativa',\n",
              "       'Farmaceuticos', 'Camareros de mesas',\n",
              "       'Carpinteros de armar y de obra blanca',\n",
              "       'Mineros y operadores de instalaciones mineras',\n",
              "       'Mecanicos y reparadores de vehiculos de motor',\n",
              "       'Representantes comerciales', 'Ebanistas y afines',\n",
              "       'Auxiliares de servicios de abordo',\n",
              "       'Productores y trabajadores calificados de explotaciones agropecuarias mixtas cuya produccion se destina al mercado',\n",
              "       'Traductores, interpretes y linguistas', 'Geologos y geofisicos',\n",
              "       'Autores y otros escritores', 'Electricistas de obras y afines',\n",
              "       'Filosofos, historiadores y especialistas en ciencias politicas',\n",
              "       'Tecnicos de radiodifusion y grabacion audio visual',\n",
              "       'Biologos, botanicos, zoologos y afines',\n",
              "       'Bailarines y coreografos', 'Zapateros y afines',\n",
              "       'Mensajeros, mandaderos, maleteros y repartidores',\n",
              "       'Practicantes paramedicos',\n",
              "       'Avicultores y trabajadores calificados de la avicultura',\n",
              "       'Sastres, modistos, peleteros y sombrereros',\n",
              "       'Cuidadores de ninos', 'Cobradores y afines',\n",
              "       'Profesionales religiosos', 'Disenadores graficos y multimedia',\n",
              "       'Pintores y empapeladores', 'Desarrolladores de software',\n",
              "       'Panaderos, pasteleros y confiteros', 'Criadores de ganado',\n",
              "       'Peones de explotacion de cultivos mixtos y ganaderos',\n",
              "       'Sociologos, antropologos y afines',\n",
              "       'Matematicos, actuarios y estadisticos',\n",
              "       'Profesionales en derecho no clasificados bajo otros epigrafes',\n",
              "       'Agentes de servicios comerciales no clasificados bajo otros epigrafes',\n",
              "       'Modelos de moda, arte y publicidad',\n",
              "       'Delineantes y dibujantes Tecnicos', 'Otros profesores de idiomas',\n",
              "       'Joyeros, orfebres y plateros', 'Jueces',\n",
              "       'Inspectores de policia y detectives',\n",
              "       'Pescadores, cazadores y tramperosPescadores, cazadores y tramperos',\n",
              "       'Archivistas y curadores de museos',\n",
              "       'Alfareros y afines  (barro, arcilla y abrasivos)',\n",
              "       'Maestros preescolares', 'Fisicos y astronomos',\n",
              "       'Grabadores de datos',\n",
              "       'Artesanos de los tejidos, el cuero y materiales similares',\n",
              "       'Profesionales de la salud y la higiene laboral y ambiental',\n",
              "       'Otros profesores de artes', 'Cartografos y agrimensores',\n",
              "       'Bibliotecarios, documentalistas y afines',\n",
              "       'Apicultores y sericultores y trabajadores calificados de la apicultura y la sericultura',\n",
              "       'Personal directivo de la administracion publica',\n",
              "       'Tapiceros, colchoneros y afines',\n",
              "       'Fontaneros e instaladores de tuberias',\n",
              "       'Tecnicos de protesis medicas y dentales',\n",
              "       'Locutores de radio, television y otros medios de comunicacion',\n",
              "       'Economos y mayordomos domesticos', 'Meteorologos',\n",
              "       'Operadores de maquinas para fabricar productos de caucho',\n",
              "       'Catadores y clasificadores de alimentos y bebidas',\n",
              "       'Astrologos, adivinadores y afines'], dtype=object)"
            ]
          },
          "metadata": {},
          "execution_count": 26
        }
      ]
    },
    {
      "cell_type": "markdown",
      "source": [
        "## **DATA VISUALIZATION**\n",
        "\n",
        "---\n",
        "\n"
      ],
      "metadata": {
        "id": "2KoCDToEN7ie"
      }
    },
    {
      "cell_type": "markdown",
      "source": [
        "## **Variables temporales**\n",
        "Ver la distribución por año y mes para detectar tendencias."
      ],
      "metadata": {
        "id": "U5eZ_YQwWA74"
      }
    },
    {
      "cell_type": "code",
      "source": [
        "# Aseguramos que matplotlib muestre números enteros\n",
        "plt.rcParams['axes.formatter.useoffset'] = False\n",
        "\n",
        "# --- Conteo por año ---\n",
        "conteo_anio = data['anio_movi'].value_counts().sort_index()\n",
        "conteo_anio.plot(kind='bar', figsize=(8,4), color='skyblue')\n",
        "plt.title(\"Cantidad de movimientos por año\")\n",
        "plt.xlabel(\"Año\")\n",
        "plt.ylabel(\"Cantidad de movimientos\")\n",
        "for i, v in enumerate(conteo_anio):\n",
        "    plt.text(i, v, f\"{v:,}\", ha='center', va='bottom', fontsize=9)  # Muestra el número encima\n",
        "plt.show()"
      ],
      "metadata": {
        "colab": {
          "base_uri": "https://localhost:8080/",
          "height": 431
        },
        "id": "NjBzu8nROHtq",
        "outputId": "c4f0f87a-e060-4862-814b-404cdd3b5d9e"
      },
      "execution_count": null,
      "outputs": [
        {
          "output_type": "display_data",
          "data": {
            "text/plain": [
              "<Figure size 800x400 with 1 Axes>"
            ],
            "image/png": "[encoded data removed]"
          },
          "metadata": {}
        }
      ]
    },
    {
      "cell_type": "code",
      "source": [
        "# Orden correcto de meses\n",
        "orden_meses = [\n",
        "    \"Enero\", \"Febrero\", \"Marzo\", \"Abril\", \"Mayo\", \"Junio\",\n",
        "    \"Julio\", \"Agosto\", \"Septiembre\", \"Octubre\", \"Noviembre\", \"Diciembre\"\n",
        "]\n",
        "\n",
        "# Conteo por mes en orden cronológico\n",
        "conteo_mes = data['mes_movi'].value_counts().reindex(orden_meses)\n",
        "\n",
        "# Gráfico\n",
        "conteo_mes.plot(kind='bar', figsize=(10,4), color='salmon')\n",
        "plt.title(\"Cantidad de movimientos por mes\")\n",
        "plt.xlabel(\"Mes\")\n",
        "plt.ylabel(\"Cantidad de movimientos\")\n",
        "for i, v in enumerate(conteo_mes):\n",
        "    plt.text(i, v, f\"{v:,}\", ha='center', va='bottom', fontsize=9)\n",
        "plt.show()"
      ],
      "metadata": {
        "colab": {
          "base_uri": "https://localhost:8080/",
          "height": 476
        },
        "id": "vJLdWUY9O5Kv",
        "outputId": "c5dad777-0206-42d9-ac8a-04912f38a708"
      },
      "execution_count": null,
      "outputs": [
        {
          "output_type": "display_data",
          "data": {
            "text/plain": [
              "<Figure size 1000x400 with 1 Axes>"
            ],
            "image/png": "[encoded data removed]"
          },
          "metadata": {}
        }
      ]
    },
    {
      "cell_type": "markdown",
      "source": [
        "## **Distribución de tipo de movimiento**"
      ],
      "metadata": {
        "id": "6RvDdc23PTGS"
      }
    },
    {
      "cell_type": "code",
      "source": [
        "sns.countplot(data=data, x='tip_movi', order=data['tip_movi'].value_counts().index)\n",
        "\n",
        "plt.title(\"Distribución Entradas vs Salidas\")\n",
        "plt.gca().yaxis.set_major_formatter(FuncFormatter(lambda x, pos: f\"{int(x):,}\"))\n",
        "\n",
        "plt.show()"
      ],
      "metadata": {
        "colab": {
          "base_uri": "https://localhost:8080/",
          "height": 472
        },
        "id": "0dShVtHaPSr4",
        "outputId": "bfdfaa3a-c6d4-4042-803f-ed17dfc93b81"
      },
      "execution_count": null,
      "outputs": [
        {
          "output_type": "display_data",
          "data": {
            "text/plain": [
              "<Figure size 640x480 with 1 Axes>"
            ],
            "image/png": "[encoded data removed]"
          },
          "metadata": {}
        }
      ]
    },
    {
      "cell_type": "code",
      "source": [
        "#ajustar tamaño\n",
        "plt.figure(figsize= (10,5)) #ancho =10, alto = 5 en pulgadas\n",
        "\n",
        "sns.countplot(data=data, x='mot_viam', order=data['mot_viam'].value_counts().index)\n",
        "\n",
        "plt.title(\"Distribución Motivo de viaje\")\n",
        "plt.gca().yaxis.set_major_formatter(FuncFormatter(lambda x, pos: f\"{int(x):,}\"))\n",
        "plt.show()"
      ],
      "metadata": {
        "colab": {
          "base_uri": "https://localhost:8080/",
          "height": 488
        },
        "id": "kU5TR2DAOCiQ",
        "outputId": "51273673-443f-41d3-be05-77101a16267f"
      },
      "execution_count": null,
      "outputs": [
        {
          "output_type": "display_data",
          "data": {
            "text/plain": [
              "<Figure size 1000x500 with 1 Axes>"
            ],
            "image/png": "[encoded data removed]"
          },
          "metadata": {}
        }
      ]
    },
    {
      "cell_type": "markdown",
      "source": [
        "## **Variables demográficas**"
      ],
      "metadata": {
        "id": "i2NnV_lzSUv0"
      }
    },
    {
      "cell_type": "code",
      "source": [
        "# Sexo\n",
        "sns.countplot(data=data, x='sex_migr', order=df['sex_migr'].value_counts().index)\n",
        "plt.title(\"Distribución por sexo\")\n",
        "plt.gca().yaxis.set_major_formatter(FuncFormatter(lambda x, pos: f\"{int(x):,}\"))\n",
        "plt.show()\n",
        "\n",
        "# Edad\n",
        "sns.histplot(data=data, x='edad', bins=30, kde=True)\n",
        "plt.title(\"Distribución de edad\")\n",
        "plt.gca().yaxis.set_major_formatter(FuncFormatter(lambda x, pos: f\"{int(x):,}\"))\n",
        "plt.show()"
      ],
      "metadata": {
        "colab": {
          "base_uri": "https://localhost:8080/",
          "height": 927
        },
        "id": "4xzfH83BSJeB",
        "outputId": "9d514ddc-e4cc-44ec-86ed-423bd561c478"
      },
      "execution_count": null,
      "outputs": [
        {
          "output_type": "display_data",
          "data": {
            "text/plain": [
              "<Figure size 640x480 with 1 Axes>"
            ],
            "image/png": "[encoded data removed]"
          },
          "metadata": {}
        },
        {
          "output_type": "display_data",
          "data": {
            "text/plain": [
              "<Figure size 640x480 with 1 Axes>"
            ],
            "image/png": "[encoded data removed]"
          },
          "metadata": {}
        }
      ]
    },
    {
      "cell_type": "markdown",
      "source": [
        "## **Países más frecuentes**"
      ],
      "metadata": {
        "id": "Oy8CcTl_Mp73"
      }
    },
    {
      "cell_type": "code",
      "source": [
        "#ajustar tamaño\n",
        "plt.figure(figsize= (10,5)) #ancho =10, alto = 5 en pulgadas\n",
        "\n",
        "# País origen (en salidas) o país destino (en entradas)\n",
        "top_paises_origen = df['pais_prod'].value_counts().head(10)\n",
        "\n",
        "sns.barplot(x=top_paises_origen.values, y=top_paises_origen.index)\n",
        "\n",
        "plt.title(\"Top 10 países de destino\")\n",
        "plt.gca().xaxis.set_major_formatter(FuncFormatter(lambda x, pos: f\"{int(x):,}\"))\n",
        "plt.show()"
      ],
      "metadata": {
        "id": "4QRrZVKiSi8m",
        "colab": {
          "base_uri": "https://localhost:8080/",
          "height": 468
        },
        "outputId": "826e9a8b-bc38-4e0d-da65-5275158972be"
      },
      "execution_count": null,
      "outputs": [
        {
          "output_type": "display_data",
          "data": {
            "text/plain": [
              "<Figure size 1000x500 with 1 Axes>"
            ],
            "image/png": "[encoded data removed]"
          },
          "metadata": {}
        }
      ]
    },
    {
      "cell_type": "markdown",
      "source": [
        "## **Medio de transporte**"
      ],
      "metadata": {
        "id": "seKSdNuwMLVp"
      }
    },
    {
      "cell_type": "code",
      "source": [
        "sns.countplot(data=data, y='via_tran', order=data['via_tran'].value_counts().index)\n",
        "plt.title(\"Medio de transporte más usado\")\n",
        "plt.gca().xaxis.set_major_formatter(FuncFormatter(lambda x, pos: f\"{int(x):,}\"))\n",
        "plt.show()"
      ],
      "metadata": {
        "colab": {
          "base_uri": "https://localhost:8080/",
          "height": 54
        },
        "id": "dxhva1HYSsKc",
        "outputId": "814df882-6d05-471b-a6e9-af06f6a10482"
      },
      "execution_count": null,
      "outputs": [
        {
          "output_type": "display_data",
          "data": {
            "text/plain": [
              "<Figure size 640x480 with 1 Axes>"
            ],
            "image/png": "[encoded data removed]"
          },
          "metadata": {}
        }
      ]
    }
  ]
}