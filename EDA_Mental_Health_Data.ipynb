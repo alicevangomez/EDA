{
  "nbformat": 4,
  "nbformat_minor": 0,
  "metadata": {
    "colab": {
      "provenance": [],
      "authorship_tag": "ABX9TyPOltScs23XbB/C0oeGGNL0",
      "include_colab_link": true
    },
    "kernelspec": {
      "name": "python3",
      "display_name": "Python 3"
    },
    "language_info": {
      "name": "python"
    }
  },
  "cells": [
    {
      "cell_type": "markdown",
      "metadata": {
        "id": "view-in-github",
        "colab_type": "text"
      },
      "source": [
        "<a href=\"https://colab.research.google.com/github/alicevangomez/EDA/blob/main/EDA_Mental_Health_Data.ipynb\" target=\"_parent\"><img src=\"https://colab.research.google.com/assets/colab-badge.svg\" alt=\"Open In Colab\"/></a>"
      ]
    },
    {
      "cell_type": "markdown",
      "source": [
        "## **Exploring Mental Health Data by Kaggle**\n",
        "\n",
        "##### Link on Kaggle: https://www.kaggle.com/competitions/playground-series-s4e11/overview\n",
        "\n",
        "\n",
        "---\n",
        "\n"
      ],
      "metadata": {
        "id": "upe91tWH9g16"
      }
    },
    {
      "cell_type": "code",
      "source": [],
      "metadata": {
        "id": "poZBfjlP_4ql"
      },
      "execution_count": null,
      "outputs": []
    }
  ]
}